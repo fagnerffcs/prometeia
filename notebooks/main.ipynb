{
 "cells": [
  {
   "cell_type": "markdown",
   "metadata": {},
   "source": [
    "# Prometeia – Ferramenta de Estudos com IA (RAG + LLM)\n",
    "Este notebook demonstra o uso dos módulos da Prometeia para leitura de PDFs, segmentação, vetorização, busca semântica e sumarização."
   ]
  },
  {
   "cell_type": "code",
   "execution_count": null,
   "metadata": {},
   "outputs": [],
   "source": [
    "# Preparação de caminho para importações\n",
    "import sys\n",
    "import os\n",
    "\n",
    "sys.path.append(os.path.abspath(\"..\"))\n",
    "\n",
    "# Módulo 1 – Ingestão de PDFs\n",
    "from src.ingestao_pdf import extrair_texto_dos_pdfs\n",
    "documentos = extrair_texto_dos_pdfs(r'E:\\DEV\\prometeia\\data\\pdfs')\n",
    "print(f\"{len(documentos)} documentos carregados:\")\n",
    "for nome in documentos.keys():\n",
    "    print(f\" - {nome}\")"
   ]
  },
  {
   "cell_type": "code",
   "execution_count": null,
   "metadata": {},
   "outputs": [],
   "source": [
    "# Módulo 2 – Segmentação e Vetorização\n",
    "from src.vetorizacao import segmentar_documento, vetorizar_segmentos\n",
    "texto = documentos[list(documentos.keys())[0]]\n",
    "segmentos = segmentar_documento(texto)\n",
    "vetores = vetorizar_segmentos(segmentos)"
   ]
  },
  {
   "cell_type": "code",
   "execution_count": null,
   "metadata": {},
   "outputs": [],
   "source": [
    "# Módulo 3 – Indexação FAISS\n",
    "from src.vetorizacao import criar_index_faiss\n",
    "import numpy as np\n",
    "index = criar_index_faiss(np.array(vetores))"
   ]
  },
  {
   "cell_type": "code",
   "execution_count": null,
   "metadata": {},
   "outputs": [],
   "source": [
    "# Módulo 4 – Busca Semântica e Sumarização\n",
    "from src.sumarizacao import gerar_resumo\n",
    "from sentence_transformers import SentenceTransformer\n",
    "modelo = SentenceTransformer('all-MiniLM-L6-v2')\n",
    "\n",
    "pergunta = 'Qual papel dos conselhos de gestão?'\n",
    "query_vec = modelo.encode([pergunta])\n",
    "D, I = index.search(np.array(query_vec), k=5)\n",
    "contexto = [segmentos[i] for i in I[0]]\n",
    "resposta = gerar_resumo(' '.join(contexto))\n",
    "print(resposta)"
   ]
  }
 ],
 "metadata": {
  "kernelspec": {
   "display_name": "Python 3",
   "language": "python",
   "name": "python3"
  },
  "language_info": {
   "codemirror_mode": {
    "name": "ipython",
    "version": 3
   },
   "file_extension": ".py",
   "mimetype": "text/x-python",
   "name": "python",
   "nbconvert_exporter": "python",
   "pygments_lexer": "ipython3",
   "version": "3.11.9"
  }
 },
 "nbformat": 4,
 "nbformat_minor": 5
}
